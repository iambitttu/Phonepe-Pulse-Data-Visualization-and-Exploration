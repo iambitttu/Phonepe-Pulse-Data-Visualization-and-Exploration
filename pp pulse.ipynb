{
 "cells": [
  {
   "cell_type": "code",
   "execution_count": 1,
   "id": "d230a706",
   "metadata": {},
   "outputs": [
    {
     "name": "stderr",
     "output_type": "stream",
     "text": [
      "fatal: destination path 'pulse' already exists and is not an empty directory.\n"
     ]
    }
   ],
   "source": [
    "!git clone https://github.com/PhonePe/pulse.git"
   ]
  },
  {
   "cell_type": "code",
   "execution_count": 2,
   "id": "02a0a252",
   "metadata": {},
   "outputs": [],
   "source": [
    "import os\n",
    "import json\n",
    "import pandas as pd"
   ]
  },
  {
   "cell_type": "code",
   "execution_count": 3,
   "id": "4b4366f2",
   "metadata": {},
   "outputs": [],
   "source": [
    "import streamlit as st\n",
    "import plotly.express as px\n",
    "import sqlalchemy"
   ]
  },
  {
   "cell_type": "code",
   "execution_count": 4,
   "id": "1fb1d22d",
   "metadata": {},
   "outputs": [],
   "source": [
    "import os"
   ]
  },
  {
   "cell_type": "code",
   "execution_count": 5,
   "id": "d4222cc7",
   "metadata": {},
   "outputs": [
    {
     "data": {
      "text/plain": [
       "True"
      ]
     },
     "execution_count": 5,
     "metadata": {},
     "output_type": "execute_result"
    }
   ],
   "source": [
    "os.path.exists('C:\\\\Users\\\\bittu\\\\OneDrive\\\\Desktop\\\\pulse\\\\data\\\\aggregated\\\\transaction\\\\country\\\\india\\\\state')"
   ]
  },
  {
   "cell_type": "code",
   "execution_count": 32,
   "id": "3408d9a9",
   "metadata": {},
   "outputs": [],
   "source": [
    "path = 'C:\\\\Users\\\\bittu\\\\OneDrive\\\\Desktop\\\\pulse\\\\data\\\\aggregated\\\\transaction\\\\country\\\\india\\\\state\\\\'\n",
    "user_state_list = os.listdir(path)\n",
    "\n",
    "\n",
    "clm = {'State': [], 'Year': [], 'Quarter': [], 'Transaction_type': [],\n",
    "      'Transaction_count': [], 'Transaction_amount': []}\n",
    "for i in user_state_list:\n",
    "    p_i = path+i+\"/\"\n",
    "    Agg_yr = os.listdir(p_i)\n",
    "    for j in Agg_yr:\n",
    "        p_j = p_i+j+\"/\"\n",
    "        Agg_yr_list = os.listdir(p_j)\n",
    "        for k in Agg_yr_list:\n",
    "            p_k = p_j+k\n",
    "            # print(p_k)\n",
    "            Data = open(p_k, 'r')\n",
    "            D = json.load(Data)\n",
    "            try:\n",
    "                for z in D['data']['transactionData']:\n",
    "                    Name = z['name']\n",
    "                    count = z['paymentInstruments'][0]['count']\n",
    "                    amount = z['paymentInstruments'][0]['amount']\n",
    "                    clm['Transaction_type'].append(Name)\n",
    "                    clm['Transaction_count'].append(count)\n",
    "                    clm['Transaction_amount'].append(amount)\n",
    "                    clm['State'].append(i)\n",
    "                    clm['Year'].append(j)\n",
    "                    clm['Quater'].append(int(k.strip('.json')))\n",
    "            except:\n",
    "                pass\n",
    "            \n",
    "Agg_Trans = pd.Series(clm)\n",
    "Agg_Trans.to_csv('Agg_trans.csv')"
   ]
  },
  {
   "cell_type": "code",
   "execution_count": 25,
   "id": "bfc68687",
   "metadata": {},
   "outputs": [],
   "source": [
    "path = 'C:\\\\Users\\\\bittu\\\\OneDrive\\\\Desktop\\\\pulse\\\\data\\\\aggregated\\\\transaction\\\\country\\\\india\\\\state\\\\'\n",
    "user_state_list = os.listdir(path)\n",
    "\n",
    "\n",
    "clm = {'State': [], 'Year': [], 'Quarter': [], 'Brand': [],\n",
    "      'Brand_count': [], 'Brand_percentage': []}\n",
    "for i in user_state_list:\n",
    "    p_i = path+i+\"/\"\n",
    "    year = os.listdir(p_i)\n",
    "    for j in year:\n",
    "        p_j = p_i+j+\"/\"\n",
    "        file = os.listdir(p_j)\n",
    "        for k in file:\n",
    "            p_k = p_j+k\n",
    "            Data = open(p_k, 'r')\n",
    "            D = json.load(Data)\n",
    "            try:\n",
    "                for z in D['data']['usersByDevice']:\n",
    "                    \n",
    "                    brand = z['brand']\n",
    "                    \n",
    "                    brand_count = z['count']\n",
    "                    brand_percentage = z['percentage']\n",
    "                    clm['Brand'].append(brand)\n",
    "                    clm['Brand_count'].append(brand_count)\n",
    "                    clm['Brand_percentage'].append(brand_percentage)\n",
    "                    clm['State'].append(i)\n",
    "                    clm['Year'].append(j)\n",
    "                    clm['Quater'].append(int(k.strip('.json')))\n",
    "            except:\n",
    "                pass\n",
    "user_by_device = pd.DataFrame(clm)\n",
    "user_by_device.to_csv('user_by_device.csv')"
   ]
  },
  {
   "cell_type": "code",
   "execution_count": 24,
   "id": "da71e983",
   "metadata": {},
   "outputs": [],
   "source": [
    "path = 'C:\\\\Users\\\\bittu\\\\OneDrive\\\\Desktop\\\\pulse\\\\data\\\\aggregated\\\\transaction\\\\country\\\\india\\\\state\\\\'\n",
    "state_list = os.listdir(path)\n",
    "\n",
    "\n",
    "clm = {'State': [], 'Year': [], 'Quarter': [], 'District': [],\n",
    "      'Transaction_count': [], 'Transaction_amount': []}\n",
    "for i in state_list:\n",
    "    p_i = path+i+\"/\"\n",
    "    year = os.listdir(p_i)\n",
    "    for j in year:\n",
    "        p_j = p_i+j+\"/\"\n",
    "        file = os.listdir(p_j)\n",
    "        for k in file:\n",
    "            p_k = p_j+k\n",
    "            \n",
    "            Data = open(p_k, 'r')\n",
    "            D = json.load(Data)\n",
    "            try:\n",
    "                for z in D['data']['hoverDataList']:\n",
    "                    Name = z['name']\n",
    "                    count = z['metric'][0]['count']\n",
    "                    amount = z['metric'][0]['amount']\n",
    "                    clm['District'].append(district)\n",
    "                    clm['Transaction_count'].append(transaction_count)\n",
    "                    clm['Transaction_amount'].append(transaction_amount)\n",
    "                    clm['State'].append(i)\n",
    "                    clm['Year'].append(j)\n",
    "                    clm['Quater'].append(int(k.strip('.json')))\n",
    "            except:\n",
    "                pass\n",
    "map_transaction = pd.DataFrame(clm)\n",
    "map_transaction.to_csv('district_map_transaction.csv')"
   ]
  },
  {
   "cell_type": "code",
   "execution_count": 23,
   "id": "91c6170d",
   "metadata": {},
   "outputs": [],
   "source": [
    "path = 'C:\\\\Users\\\\bittu\\\\OneDrive\\\\Desktop\\\\pulse\\\\data\\\\aggregated\\\\transaction\\\\country\\\\india\\\\state\\\\'\n",
    "state_list = os.listdir(path)\n",
    "\n",
    "\n",
    "clm = {'State': [], 'Year': [], 'Quarter': [], 'District': [],\n",
    "      'Registered_user': [], 'App_opening': []}\n",
    "for i in state_list:\n",
    "    p_i = path+i+\"/\"\n",
    "    year = os.listdir(p_i)\n",
    "    for j in year:\n",
    "        p_j = p_i+j+\"/\"\n",
    "        file = os.listdir(p_j)\n",
    "        for k in file:\n",
    "            p_k = p_j+k\n",
    "            Data = open(p_k, 'r')\n",
    "            D = json.load(Data)\n",
    "            try:\n",
    "                for z in D['data']['hoverData']:\n",
    "                    district = z['name']\n",
    "                    registered_user = D['data']['hoverData'][z]['registeredUsers']\n",
    "                    app_opening = D['data']['hoverData'][z]['appOpens']\n",
    "                    clm['District'].append(district)\n",
    "                    clm['Registered_user'].append(registered_user)\n",
    "                    clm['App_opening'].append(app_opening)\n",
    "                    clm['State'].append(i)\n",
    "                    clm['Year'].append(j)\n",
    "                    clm['Quater'].append(int(k.strip('.json')))\n",
    "            except:\n",
    "                pass\n",
    "district_registering = pd.DataFrame(clm)\n",
    "district_registering.to_csv('district_registering_map.csv')"
   ]
  },
  {
   "cell_type": "code",
   "execution_count": 7,
   "id": "0efa378f",
   "metadata": {},
   "outputs": [
    {
     "data": {
      "text/plain": [
       "State                 [andaman-&-nicobar-islands, andaman-&-nicobar-...\n",
       "Year                  [2018, 2018, 2018, 2018, 2019, 2019, 2019, 201...\n",
       "Quarter                                                              []\n",
       "Transaction_type      [Recharge & bill payments, Recharge & bill pay...\n",
       "Transaction_count     [4200, 6735, 8636, 11517, 15263, 14676, 16219,...\n",
       "Transaction_amount    [1845307.4673655091, 2320944.731074479, 434350...\n",
       "dtype: object"
      ]
     },
     "execution_count": 7,
     "metadata": {},
     "output_type": "execute_result"
    }
   ],
   "source": [
    "Agg_Trans"
   ]
  },
  {
   "cell_type": "code",
   "execution_count": 9,
   "id": "7cd0739e",
   "metadata": {},
   "outputs": [
    {
     "data": {
      "text/html": [
       "<div>\n",
       "<style scoped>\n",
       "    .dataframe tbody tr th:only-of-type {\n",
       "        vertical-align: middle;\n",
       "    }\n",
       "\n",
       "    .dataframe tbody tr th {\n",
       "        vertical-align: top;\n",
       "    }\n",
       "\n",
       "    .dataframe thead th {\n",
       "        text-align: right;\n",
       "    }\n",
       "</style>\n",
       "<table border=\"1\" class=\"dataframe\">\n",
       "  <thead>\n",
       "    <tr style=\"text-align: right;\">\n",
       "      <th></th>\n",
       "      <th>0</th>\n",
       "    </tr>\n",
       "  </thead>\n",
       "  <tbody>\n",
       "    <tr>\n",
       "      <th>State</th>\n",
       "      <td>[andaman-&amp;-nicobar-islands, andaman-&amp;-nicobar-...</td>\n",
       "    </tr>\n",
       "    <tr>\n",
       "      <th>Year</th>\n",
       "      <td>[2018, 2018, 2018, 2018, 2019, 2019, 2019, 201...</td>\n",
       "    </tr>\n",
       "    <tr>\n",
       "      <th>Quarter</th>\n",
       "      <td>[]</td>\n",
       "    </tr>\n",
       "    <tr>\n",
       "      <th>Transaction_type</th>\n",
       "      <td>[Recharge &amp; bill payments, Recharge &amp; bill pay...</td>\n",
       "    </tr>\n",
       "    <tr>\n",
       "      <th>Transaction_count</th>\n",
       "      <td>[4200, 6735, 8636, 11517, 15263, 14676, 16219,...</td>\n",
       "    </tr>\n",
       "    <tr>\n",
       "      <th>Transaction_amount</th>\n",
       "      <td>[1845307.4673655091, 2320944.731074479, 434350...</td>\n",
       "    </tr>\n",
       "  </tbody>\n",
       "</table>\n",
       "</div>"
      ],
      "text/plain": [
       "                                                                    0\n",
       "State               [andaman-&-nicobar-islands, andaman-&-nicobar-...\n",
       "Year                [2018, 2018, 2018, 2018, 2019, 2019, 2019, 201...\n",
       "Quarter                                                            []\n",
       "Transaction_type    [Recharge & bill payments, Recharge & bill pay...\n",
       "Transaction_count   [4200, 6735, 8636, 11517, 15263, 14676, 16219,...\n",
       "Transaction_amount  [1845307.4673655091, 2320944.731074479, 434350..."
      ]
     },
     "execution_count": 9,
     "metadata": {},
     "output_type": "execute_result"
    }
   ],
   "source": [
    "pd.DataFrame(Agg_Trans)"
   ]
  },
  {
   "cell_type": "code",
   "execution_count": 10,
   "id": "094db7be",
   "metadata": {},
   "outputs": [
    {
     "name": "stdout",
     "output_type": "stream",
     "text": [
      "['andaman-&-nicobar-islands', 'andaman-&-nicobar-islands', 'andaman-&-nicobar-islands', 'andaman-&-nicobar-islands', 'andaman-&-nicobar-islands', 'andaman-&-nicobar-islands', 'andaman-&-nicobar-islands', 'andaman-&-nicobar-islands', 'andaman-&-nicobar-islands', 'andaman-&-nicobar-islands', 'andaman-&-nicobar-islands', 'andaman-&-nicobar-islands', 'andaman-&-nicobar-islands', 'andaman-&-nicobar-islands', 'andaman-&-nicobar-islands', 'andaman-&-nicobar-islands', 'andaman-&-nicobar-islands', 'andaman-&-nicobar-islands', 'andaman-&-nicobar-islands', 'andaman-&-nicobar-islands', 'andhra-pradesh', 'andhra-pradesh', 'andhra-pradesh', 'andhra-pradesh', 'andhra-pradesh', 'andhra-pradesh', 'andhra-pradesh', 'andhra-pradesh', 'andhra-pradesh', 'andhra-pradesh', 'andhra-pradesh', 'andhra-pradesh', 'andhra-pradesh', 'andhra-pradesh', 'andhra-pradesh', 'andhra-pradesh', 'andhra-pradesh', 'andhra-pradesh', 'andhra-pradesh', 'andhra-pradesh', 'arunachal-pradesh', 'arunachal-pradesh', 'arunachal-pradesh', 'arunachal-pradesh', 'arunachal-pradesh', 'arunachal-pradesh', 'arunachal-pradesh', 'arunachal-pradesh', 'arunachal-pradesh', 'arunachal-pradesh', 'arunachal-pradesh', 'arunachal-pradesh', 'arunachal-pradesh', 'arunachal-pradesh', 'arunachal-pradesh', 'arunachal-pradesh', 'arunachal-pradesh', 'arunachal-pradesh', 'arunachal-pradesh', 'arunachal-pradesh', 'assam', 'assam', 'assam', 'assam', 'assam', 'assam', 'assam', 'assam', 'assam', 'assam', 'assam', 'assam', 'assam', 'assam', 'assam', 'assam', 'assam', 'assam', 'assam', 'assam', 'bihar', 'bihar', 'bihar', 'bihar', 'bihar', 'bihar', 'bihar', 'bihar', 'bihar', 'bihar', 'bihar', 'bihar', 'bihar', 'bihar', 'bihar', 'bihar', 'bihar', 'bihar', 'bihar', 'bihar', 'chandigarh', 'chandigarh', 'chandigarh', 'chandigarh', 'chandigarh', 'chandigarh', 'chandigarh', 'chandigarh', 'chandigarh', 'chandigarh', 'chandigarh', 'chandigarh', 'chandigarh', 'chandigarh', 'chandigarh', 'chandigarh', 'chandigarh', 'chandigarh', 'chandigarh', 'chandigarh', 'chhattisgarh', 'chhattisgarh', 'chhattisgarh', 'chhattisgarh', 'chhattisgarh', 'chhattisgarh', 'chhattisgarh', 'chhattisgarh', 'chhattisgarh', 'chhattisgarh', 'chhattisgarh', 'chhattisgarh', 'chhattisgarh', 'chhattisgarh', 'chhattisgarh', 'chhattisgarh', 'chhattisgarh', 'chhattisgarh', 'chhattisgarh', 'chhattisgarh', 'dadra-&-nagar-haveli-&-daman-&-diu', 'dadra-&-nagar-haveli-&-daman-&-diu', 'dadra-&-nagar-haveli-&-daman-&-diu', 'dadra-&-nagar-haveli-&-daman-&-diu', 'dadra-&-nagar-haveli-&-daman-&-diu', 'dadra-&-nagar-haveli-&-daman-&-diu', 'dadra-&-nagar-haveli-&-daman-&-diu', 'dadra-&-nagar-haveli-&-daman-&-diu', 'dadra-&-nagar-haveli-&-daman-&-diu', 'dadra-&-nagar-haveli-&-daman-&-diu', 'dadra-&-nagar-haveli-&-daman-&-diu', 'dadra-&-nagar-haveli-&-daman-&-diu', 'dadra-&-nagar-haveli-&-daman-&-diu', 'dadra-&-nagar-haveli-&-daman-&-diu', 'dadra-&-nagar-haveli-&-daman-&-diu', 'dadra-&-nagar-haveli-&-daman-&-diu', 'dadra-&-nagar-haveli-&-daman-&-diu', 'dadra-&-nagar-haveli-&-daman-&-diu', 'dadra-&-nagar-haveli-&-daman-&-diu', 'dadra-&-nagar-haveli-&-daman-&-diu', 'delhi', 'delhi', 'delhi', 'delhi', 'delhi', 'delhi', 'delhi', 'delhi', 'delhi', 'delhi', 'delhi', 'delhi', 'delhi', 'delhi', 'delhi', 'delhi', 'delhi', 'delhi', 'delhi', 'delhi', 'goa', 'goa', 'goa', 'goa', 'goa', 'goa', 'goa', 'goa', 'goa', 'goa', 'goa', 'goa', 'goa', 'goa', 'goa', 'goa', 'goa', 'goa', 'goa', 'goa', 'gujarat', 'gujarat', 'gujarat', 'gujarat', 'gujarat', 'gujarat', 'gujarat', 'gujarat', 'gujarat', 'gujarat', 'gujarat', 'gujarat', 'gujarat', 'gujarat', 'gujarat', 'gujarat', 'gujarat', 'gujarat', 'gujarat', 'gujarat', 'haryana', 'haryana', 'haryana', 'haryana', 'haryana', 'haryana', 'haryana', 'haryana', 'haryana', 'haryana', 'haryana', 'haryana', 'haryana', 'haryana', 'haryana', 'haryana', 'haryana', 'haryana', 'haryana', 'haryana', 'himachal-pradesh', 'himachal-pradesh', 'himachal-pradesh', 'himachal-pradesh', 'himachal-pradesh', 'himachal-pradesh', 'himachal-pradesh', 'himachal-pradesh', 'himachal-pradesh', 'himachal-pradesh', 'himachal-pradesh', 'himachal-pradesh', 'himachal-pradesh', 'himachal-pradesh', 'himachal-pradesh', 'himachal-pradesh', 'himachal-pradesh', 'himachal-pradesh', 'himachal-pradesh', 'himachal-pradesh', 'jammu-&-kashmir', 'jammu-&-kashmir', 'jammu-&-kashmir', 'jammu-&-kashmir', 'jammu-&-kashmir', 'jammu-&-kashmir', 'jammu-&-kashmir', 'jammu-&-kashmir', 'jammu-&-kashmir', 'jammu-&-kashmir', 'jammu-&-kashmir', 'jammu-&-kashmir', 'jammu-&-kashmir', 'jammu-&-kashmir', 'jammu-&-kashmir', 'jammu-&-kashmir', 'jammu-&-kashmir', 'jammu-&-kashmir', 'jammu-&-kashmir', 'jammu-&-kashmir', 'jharkhand', 'jharkhand', 'jharkhand', 'jharkhand', 'jharkhand', 'jharkhand', 'jharkhand', 'jharkhand', 'jharkhand', 'jharkhand', 'jharkhand', 'jharkhand', 'jharkhand', 'jharkhand', 'jharkhand', 'jharkhand', 'jharkhand', 'jharkhand', 'jharkhand', 'jharkhand', 'karnataka', 'karnataka', 'karnataka', 'karnataka', 'karnataka', 'karnataka', 'karnataka', 'karnataka', 'karnataka', 'karnataka', 'karnataka', 'karnataka', 'karnataka', 'karnataka', 'karnataka', 'karnataka', 'karnataka', 'karnataka', 'karnataka', 'karnataka', 'kerala', 'kerala', 'kerala', 'kerala', 'kerala', 'kerala', 'kerala', 'kerala', 'kerala', 'kerala', 'kerala', 'kerala', 'kerala', 'kerala', 'kerala', 'kerala', 'kerala', 'kerala', 'kerala', 'kerala', 'ladakh', 'ladakh', 'ladakh', 'ladakh', 'ladakh', 'ladakh', 'ladakh', 'ladakh', 'ladakh', 'ladakh', 'ladakh', 'ladakh', 'ladakh', 'ladakh', 'ladakh', 'ladakh', 'ladakh', 'ladakh', 'ladakh', 'ladakh', 'lakshadweep', 'lakshadweep', 'lakshadweep', 'lakshadweep', 'lakshadweep', 'lakshadweep', 'lakshadweep', 'lakshadweep', 'lakshadweep', 'lakshadweep', 'lakshadweep', 'lakshadweep', 'lakshadweep', 'lakshadweep', 'lakshadweep', 'lakshadweep', 'lakshadweep', 'lakshadweep', 'lakshadweep', 'lakshadweep', 'madhya-pradesh', 'madhya-pradesh', 'madhya-pradesh', 'madhya-pradesh', 'madhya-pradesh', 'madhya-pradesh', 'madhya-pradesh', 'madhya-pradesh', 'madhya-pradesh', 'madhya-pradesh', 'madhya-pradesh', 'madhya-pradesh', 'madhya-pradesh', 'madhya-pradesh', 'madhya-pradesh', 'madhya-pradesh', 'madhya-pradesh', 'madhya-pradesh', 'madhya-pradesh', 'madhya-pradesh', 'maharashtra', 'maharashtra', 'maharashtra', 'maharashtra', 'maharashtra', 'maharashtra', 'maharashtra', 'maharashtra', 'maharashtra', 'maharashtra', 'maharashtra', 'maharashtra', 'maharashtra', 'maharashtra', 'maharashtra', 'maharashtra', 'maharashtra', 'maharashtra', 'maharashtra', 'maharashtra', 'manipur', 'manipur', 'manipur', 'manipur', 'manipur', 'manipur', 'manipur', 'manipur', 'manipur', 'manipur', 'manipur', 'manipur', 'manipur', 'manipur', 'manipur', 'manipur', 'manipur', 'manipur', 'manipur', 'manipur', 'meghalaya', 'meghalaya', 'meghalaya', 'meghalaya', 'meghalaya', 'meghalaya', 'meghalaya', 'meghalaya', 'meghalaya', 'meghalaya', 'meghalaya', 'meghalaya', 'meghalaya', 'meghalaya', 'meghalaya', 'meghalaya', 'meghalaya', 'meghalaya', 'meghalaya', 'meghalaya', 'mizoram', 'mizoram', 'mizoram', 'mizoram', 'mizoram', 'mizoram', 'mizoram', 'mizoram', 'mizoram', 'mizoram', 'mizoram', 'mizoram', 'mizoram', 'mizoram', 'mizoram', 'mizoram', 'mizoram', 'mizoram', 'mizoram', 'mizoram', 'nagaland', 'nagaland', 'nagaland', 'nagaland', 'nagaland', 'nagaland', 'nagaland', 'nagaland', 'nagaland', 'nagaland', 'nagaland', 'nagaland', 'nagaland', 'nagaland', 'nagaland', 'nagaland', 'nagaland', 'nagaland', 'nagaland', 'nagaland', 'odisha', 'odisha', 'odisha', 'odisha', 'odisha', 'odisha', 'odisha', 'odisha', 'odisha', 'odisha', 'odisha', 'odisha', 'odisha', 'odisha', 'odisha', 'odisha', 'odisha', 'odisha', 'odisha', 'odisha', 'puducherry', 'puducherry', 'puducherry', 'puducherry', 'puducherry', 'puducherry', 'puducherry', 'puducherry', 'puducherry', 'puducherry', 'puducherry', 'puducherry', 'puducherry', 'puducherry', 'puducherry', 'puducherry', 'puducherry', 'puducherry', 'puducherry', 'puducherry', 'punjab', 'punjab', 'punjab', 'punjab', 'punjab', 'punjab', 'punjab', 'punjab', 'punjab', 'punjab', 'punjab', 'punjab', 'punjab', 'punjab', 'punjab', 'punjab', 'punjab', 'punjab', 'punjab', 'punjab', 'rajasthan', 'rajasthan', 'rajasthan', 'rajasthan', 'rajasthan', 'rajasthan', 'rajasthan', 'rajasthan', 'rajasthan', 'rajasthan', 'rajasthan', 'rajasthan', 'rajasthan', 'rajasthan', 'rajasthan', 'rajasthan', 'rajasthan', 'rajasthan', 'rajasthan', 'rajasthan', 'sikkim', 'sikkim', 'sikkim', 'sikkim', 'sikkim', 'sikkim', 'sikkim', 'sikkim', 'sikkim', 'sikkim', 'sikkim', 'sikkim', 'sikkim', 'sikkim', 'sikkim', 'sikkim', 'sikkim', 'sikkim', 'sikkim', 'sikkim', 'tamil-nadu', 'tamil-nadu', 'tamil-nadu', 'tamil-nadu', 'tamil-nadu', 'tamil-nadu', 'tamil-nadu', 'tamil-nadu', 'tamil-nadu', 'tamil-nadu', 'tamil-nadu', 'tamil-nadu', 'tamil-nadu', 'tamil-nadu', 'tamil-nadu', 'tamil-nadu', 'tamil-nadu', 'tamil-nadu', 'tamil-nadu', 'tamil-nadu', 'telangana', 'telangana', 'telangana', 'telangana', 'telangana', 'telangana', 'telangana', 'telangana', 'telangana', 'telangana', 'telangana', 'telangana', 'telangana', 'telangana', 'telangana', 'telangana', 'telangana', 'telangana', 'telangana', 'telangana', 'tripura', 'tripura', 'tripura', 'tripura', 'tripura', 'tripura', 'tripura', 'tripura', 'tripura', 'tripura', 'tripura', 'tripura', 'tripura', 'tripura', 'tripura', 'tripura', 'tripura', 'tripura', 'tripura', 'tripura', 'uttar-pradesh', 'uttar-pradesh', 'uttar-pradesh', 'uttar-pradesh', 'uttar-pradesh', 'uttar-pradesh', 'uttar-pradesh', 'uttar-pradesh', 'uttar-pradesh', 'uttar-pradesh', 'uttar-pradesh', 'uttar-pradesh', 'uttar-pradesh', 'uttar-pradesh', 'uttar-pradesh', 'uttar-pradesh', 'uttar-pradesh', 'uttar-pradesh', 'uttar-pradesh', 'uttar-pradesh', 'uttarakhand', 'uttarakhand', 'uttarakhand', 'uttarakhand', 'uttarakhand', 'uttarakhand', 'uttarakhand', 'uttarakhand', 'uttarakhand', 'uttarakhand', 'uttarakhand', 'uttarakhand', 'uttarakhand', 'uttarakhand', 'uttarakhand', 'uttarakhand', 'uttarakhand', 'uttarakhand', 'uttarakhand', 'uttarakhand', 'west-bengal', 'west-bengal', 'west-bengal', 'west-bengal', 'west-bengal', 'west-bengal', 'west-bengal', 'west-bengal', 'west-bengal', 'west-bengal', 'west-bengal', 'west-bengal', 'west-bengal', 'west-bengal', 'west-bengal', 'west-bengal', 'west-bengal', 'west-bengal', 'west-bengal', 'west-bengal']\n",
      "['2018', '2018', '2018', '2018', '2019', '2019', '2019', '2019', '2020', '2020', '2020', '2020', '2021', '2021', '2021', '2021', '2022', '2022', '2022', '2022', '2018', '2018', '2018', '2018', '2019', '2019', '2019', '2019', '2020', '2020', '2020', '2020', '2021', '2021', '2021', '2021', '2022', '2022', '2022', '2022', '2018', '2018', '2018', '2018', '2019', '2019', '2019', '2019', '2020', '2020', '2020', '2020', '2021', '2021', '2021', '2021', '2022', '2022', '2022', '2022', '2018', '2018', '2018', '2018', '2019', '2019', '2019', '2019', '2020', '2020', '2020', '2020', '2021', '2021', '2021', '2021', '2022', '2022', '2022', '2022', '2018', '2018', '2018', '2018', '2019', '2019', '2019', '2019', '2020', '2020', '2020', '2020', '2021', '2021', '2021', '2021', '2022', '2022', '2022', '2022', '2018', '2018', '2018', '2018', '2019', '2019', '2019', '2019', '2020', '2020', '2020', '2020', '2021', '2021', '2021', '2021', '2022', '2022', '2022', '2022', '2018', '2018', '2018', '2018', '2019', '2019', '2019', '2019', '2020', '2020', '2020', '2020', '2021', '2021', '2021', '2021', '2022', '2022', '2022', '2022', '2018', '2018', '2018', '2018', '2019', '2019', '2019', '2019', '2020', '2020', '2020', '2020', '2021', '2021', '2021', '2021', '2022', '2022', '2022', '2022', '2018', '2018', '2018', '2018', '2019', '2019', '2019', '2019', '2020', '2020', '2020', '2020', '2021', '2021', '2021', '2021', '2022', '2022', '2022', '2022', '2018', '2018', '2018', '2018', '2019', '2019', '2019', '2019', '2020', '2020', '2020', '2020', '2021', '2021', '2021', '2021', '2022', '2022', '2022', '2022', '2018', '2018', '2018', '2018', '2019', '2019', '2019', '2019', '2020', '2020', '2020', '2020', '2021', '2021', '2021', '2021', '2022', '2022', '2022', '2022', '2018', '2018', '2018', '2018', '2019', '2019', '2019', '2019', '2020', '2020', '2020', '2020', '2021', '2021', '2021', '2021', '2022', '2022', '2022', '2022', '2018', '2018', '2018', '2018', '2019', '2019', '2019', '2019', '2020', '2020', '2020', '2020', '2021', '2021', '2021', '2021', '2022', '2022', '2022', '2022', '2018', '2018', '2018', '2018', '2019', '2019', '2019', '2019', '2020', '2020', '2020', '2020', '2021', '2021', '2021', '2021', '2022', '2022', '2022', '2022', '2018', '2018', '2018', '2018', '2019', '2019', '2019', '2019', '2020', '2020', '2020', '2020', '2021', '2021', '2021', '2021', '2022', '2022', '2022', '2022', '2018', '2018', '2018', '2018', '2019', '2019', '2019', '2019', '2020', '2020', '2020', '2020', '2021', '2021', '2021', '2021', '2022', '2022', '2022', '2022', '2018', '2018', '2018', '2018', '2019', '2019', '2019', '2019', '2020', '2020', '2020', '2020', '2021', '2021', '2021', '2021', '2022', '2022', '2022', '2022', '2018', '2018', '2018', '2018', '2019', '2019', '2019', '2019', '2020', '2020', '2020', '2020', '2021', '2021', '2021', '2021', '2022', '2022', '2022', '2022', '2018', '2018', '2018', '2018', '2019', '2019', '2019', '2019', '2020', '2020', '2020', '2020', '2021', '2021', '2021', '2021', '2022', '2022', '2022', '2022', '2018', '2018', '2018', '2018', '2019', '2019', '2019', '2019', '2020', '2020', '2020', '2020', '2021', '2021', '2021', '2021', '2022', '2022', '2022', '2022', '2018', '2018', '2018', '2018', '2019', '2019', '2019', '2019', '2020', '2020', '2020', '2020', '2021', '2021', '2021', '2021', '2022', '2022', '2022', '2022', '2018', '2018', '2018', '2018', '2019', '2019', '2019', '2019', '2020', '2020', '2020', '2020', '2021', '2021', '2021', '2021', '2022', '2022', '2022', '2022', '2018', '2018', '2018', '2018', '2019', '2019', '2019', '2019', '2020', '2020', '2020', '2020', '2021', '2021', '2021', '2021', '2022', '2022', '2022', '2022', '2018', '2018', '2018', '2018', '2019', '2019', '2019', '2019', '2020', '2020', '2020', '2020', '2021', '2021', '2021', '2021', '2022', '2022', '2022', '2022', '2018', '2018', '2018', '2018', '2019', '2019', '2019', '2019', '2020', '2020', '2020', '2020', '2021', '2021', '2021', '2021', '2022', '2022', '2022', '2022', '2018', '2018', '2018', '2018', '2019', '2019', '2019', '2019', '2020', '2020', '2020', '2020', '2021', '2021', '2021', '2021', '2022', '2022', '2022', '2022', '2018', '2018', '2018', '2018', '2019', '2019', '2019', '2019', '2020', '2020', '2020', '2020', '2021', '2021', '2021', '2021', '2022', '2022', '2022', '2022', '2018', '2018', '2018', '2018', '2019', '2019', '2019', '2019', '2020', '2020', '2020', '2020', '2021', '2021', '2021', '2021', '2022', '2022', '2022', '2022', '2018', '2018', '2018', '2018', '2019', '2019', '2019', '2019', '2020', '2020', '2020', '2020', '2021', '2021', '2021', '2021', '2022', '2022', '2022', '2022', '2018', '2018', '2018', '2018', '2019', '2019', '2019', '2019', '2020', '2020', '2020', '2020', '2021', '2021', '2021', '2021', '2022', '2022', '2022', '2022', '2018', '2018', '2018', '2018', '2019', '2019', '2019', '2019', '2020', '2020', '2020', '2020', '2021', '2021', '2021', '2021', '2022', '2022', '2022', '2022', '2018', '2018', '2018', '2018', '2019', '2019', '2019', '2019', '2020', '2020', '2020', '2020', '2021', '2021', '2021', '2021', '2022', '2022', '2022', '2022', '2018', '2018', '2018', '2018', '2019', '2019', '2019', '2019', '2020', '2020', '2020', '2020', '2021', '2021', '2021', '2021', '2022', '2022', '2022', '2022', '2018', '2018', '2018', '2018', '2019', '2019', '2019', '2019', '2020', '2020', '2020', '2020', '2021', '2021', '2021', '2021', '2022', '2022', '2022', '2022', '2018', '2018', '2018', '2018', '2019', '2019', '2019', '2019', '2020', '2020', '2020', '2020', '2021', '2021', '2021', '2021', '2022', '2022', '2022', '2022', '2018', '2018', '2018', '2018', '2019', '2019', '2019', '2019', '2020', '2020', '2020', '2020', '2021', '2021', '2021', '2021', '2022', '2022', '2022', '2022']\n",
      "[]\n",
      "['Recharge & bill payments', 'Recharge & bill payments', 'Recharge & bill payments', 'Recharge & bill payments', 'Recharge & bill payments', 'Recharge & bill payments', 'Recharge & bill payments', 'Peer-to-peer payments', 'Peer-to-peer payments', 'Recharge & bill payments', 'Recharge & bill payments', 'Peer-to-peer payments', 'Peer-to-peer payments', 'Peer-to-peer payments', 'Peer-to-peer payments', 'Peer-to-peer payments', 'Peer-to-peer payments', 'Merchant payments', 'Merchant payments', 'Merchant payments', 'Recharge & bill payments', 'Recharge & bill payments', 'Peer-to-peer payments', 'Peer-to-peer payments', 'Peer-to-peer payments', 'Peer-to-peer payments', 'Peer-to-peer payments', 'Peer-to-peer payments', 'Peer-to-peer payments', 'Peer-to-peer payments', 'Peer-to-peer payments', 'Peer-to-peer payments', 'Peer-to-peer payments', 'Peer-to-peer payments', 'Peer-to-peer payments', 'Peer-to-peer payments', 'Peer-to-peer payments', 'Peer-to-peer payments', 'Peer-to-peer payments', 'Merchant payments', 'Recharge & bill payments', 'Recharge & bill payments', 'Recharge & bill payments', 'Recharge & bill payments', 'Recharge & bill payments', 'Recharge & bill payments', 'Recharge & bill payments', 'Recharge & bill payments', 'Recharge & bill payments', 'Recharge & bill payments', 'Recharge & bill payments', 'Peer-to-peer payments', 'Peer-to-peer payments', 'Peer-to-peer payments', 'Peer-to-peer payments', 'Peer-to-peer payments', 'Peer-to-peer payments', 'Peer-to-peer payments', 'Peer-to-peer payments', 'Peer-to-peer payments', 'Recharge & bill payments', 'Recharge & bill payments', 'Recharge & bill payments', 'Recharge & bill payments', 'Recharge & bill payments', 'Recharge & bill payments', 'Peer-to-peer payments', 'Peer-to-peer payments', 'Peer-to-peer payments', 'Recharge & bill payments', 'Peer-to-peer payments', 'Peer-to-peer payments', 'Peer-to-peer payments', 'Peer-to-peer payments', 'Peer-to-peer payments', 'Peer-to-peer payments', 'Peer-to-peer payments', 'Peer-to-peer payments', 'Peer-to-peer payments', 'Peer-to-peer payments', 'Recharge & bill payments', 'Recharge & bill payments', 'Peer-to-peer payments', 'Peer-to-peer payments', 'Peer-to-peer payments', 'Peer-to-peer payments', 'Peer-to-peer payments', 'Peer-to-peer payments', 'Peer-to-peer payments', 'Peer-to-peer payments', 'Peer-to-peer payments', 'Peer-to-peer payments', 'Peer-to-peer payments', 'Peer-to-peer payments', 'Peer-to-peer payments', 'Peer-to-peer payments', 'Peer-to-peer payments', 'Peer-to-peer payments', 'Merchant payments', 'Merchant payments', 'Recharge & bill payments', 'Recharge & bill payments', 'Peer-to-peer payments', 'Peer-to-peer payments', 'Peer-to-peer payments', 'Peer-to-peer payments', 'Peer-to-peer payments', 'Peer-to-peer payments', 'Peer-to-peer payments', 'Peer-to-peer payments', 'Peer-to-peer payments', 'Merchant payments', 'Merchant payments', 'Merchant payments', 'Merchant payments', 'Merchant payments', 'Merchant payments', 'Merchant payments', 'Merchant payments', 'Merchant payments', 'Recharge & bill payments', 'Recharge & bill payments', 'Recharge & bill payments', 'Recharge & bill payments', 'Peer-to-peer payments', 'Peer-to-peer payments', 'Peer-to-peer payments', 'Peer-to-peer payments', 'Peer-to-peer payments', 'Recharge & bill payments', 'Peer-to-peer payments', 'Peer-to-peer payments', 'Peer-to-peer payments', 'Peer-to-peer payments', 'Merchant payments', 'Merchant payments', 'Merchant payments', 'Merchant payments', 'Merchant payments', 'Merchant payments', 'Recharge & bill payments', 'Recharge & bill payments', 'Recharge & bill payments', 'Peer-to-peer payments', 'Peer-to-peer payments', 'Peer-to-peer payments', 'Recharge & bill payments', 'Recharge & bill payments', 'Recharge & bill payments', 'Recharge & bill payments', 'Recharge & bill payments', 'Peer-to-peer payments', 'Peer-to-peer payments', 'Peer-to-peer payments', 'Merchant payments', 'Merchant payments', 'Merchant payments', 'Merchant payments', 'Merchant payments', 'Merchant payments', 'Recharge & bill payments', 'Recharge & bill payments', 'Peer-to-peer payments', 'Peer-to-peer payments', 'Peer-to-peer payments', 'Merchant payments', 'Merchant payments', 'Peer-to-peer payments', 'Merchant payments', 'Peer-to-peer payments', 'Peer-to-peer payments', 'Merchant payments', 'Merchant payments', 'Merchant payments', 'Merchant payments', 'Merchant payments', 'Merchant payments', 'Merchant payments', 'Merchant payments', 'Merchant payments', 'Recharge & bill payments', 'Recharge & bill payments', 'Recharge & bill payments', 'Peer-to-peer payments', 'Peer-to-peer payments', 'Peer-to-peer payments', 'Peer-to-peer payments', 'Peer-to-peer payments', 'Peer-to-peer payments', 'Recharge & bill payments', 'Peer-to-peer payments', 'Peer-to-peer payments', 'Peer-to-peer payments', 'Merchant payments', 'Merchant payments', 'Merchant payments', 'Merchant payments', 'Merchant payments', 'Merchant payments', 'Merchant payments', 'Recharge & bill payments', 'Recharge & bill payments', 'Peer-to-peer payments', 'Peer-to-peer payments', 'Peer-to-peer payments', 'Peer-to-peer payments', 'Peer-to-peer payments', 'Peer-to-peer payments', 'Peer-to-peer payments', 'Recharge & bill payments', 'Peer-to-peer payments', 'Peer-to-peer payments', 'Peer-to-peer payments', 'Merchant payments', 'Merchant payments', 'Merchant payments', 'Merchant payments', 'Merchant payments', 'Merchant payments', 'Merchant payments', 'Recharge & bill payments', 'Recharge & bill payments', 'Peer-to-peer payments', 'Peer-to-peer payments', 'Peer-to-peer payments', 'Peer-to-peer payments', 'Peer-to-peer payments', 'Peer-to-peer payments', 'Peer-to-peer payments', 'Peer-to-peer payments', 'Peer-to-peer payments', 'Merchant payments', 'Merchant payments', 'Merchant payments', 'Merchant payments', 'Merchant payments', 'Merchant payments', 'Merchant payments', 'Merchant payments', 'Merchant payments', 'Recharge & bill payments', 'Recharge & bill payments', 'Recharge & bill payments', 'Recharge & bill payments', 'Peer-to-peer payments', 'Peer-to-peer payments', 'Recharge & bill payments', 'Peer-to-peer payments', 'Recharge & bill payments', 'Recharge & bill payments', 'Recharge & bill payments', 'Recharge & bill payments', 'Peer-to-peer payments', 'Peer-to-peer payments', 'Peer-to-peer payments', 'Merchant payments', 'Merchant payments', 'Merchant payments', 'Merchant payments', 'Merchant payments', 'Recharge & bill payments', 'Recharge & bill payments', 'Peer-to-peer payments', 'Peer-to-peer payments', 'Peer-to-peer payments', 'Peer-to-peer payments', 'Peer-to-peer payments', 'Peer-to-peer payments', 'Peer-to-peer payments', 'Peer-to-peer payments', 'Peer-to-peer payments', 'Peer-to-peer payments', 'Peer-to-peer payments', 'Peer-to-peer payments', 'Peer-to-peer payments', 'Peer-to-peer payments', 'Peer-to-peer payments', 'Merchant payments', 'Merchant payments', 'Merchant payments', 'Recharge & bill payments', 'Recharge & bill payments', 'Peer-to-peer payments', 'Peer-to-peer payments', 'Peer-to-peer payments', 'Peer-to-peer payments', 'Peer-to-peer payments', 'Peer-to-peer payments', 'Peer-to-peer payments', 'Peer-to-peer payments', 'Peer-to-peer payments', 'Peer-to-peer payments', 'Peer-to-peer payments', 'Peer-to-peer payments', 'Peer-to-peer payments', 'Merchant payments', 'Merchant payments', 'Merchant payments', 'Merchant payments', 'Merchant payments', 'Recharge & bill payments', 'Recharge & bill payments', 'Peer-to-peer payments', 'Peer-to-peer payments', 'Peer-to-peer payments', 'Peer-to-peer payments', 'Merchant payments', 'Merchant payments', 'Merchant payments', 'Merchant payments', 'Merchant payments', 'Merchant payments', 'Merchant payments', 'Merchant payments', 'Merchant payments', 'Merchant payments', 'Merchant payments', 'Merchant payments', 'Merchant payments', 'Merchant payments', 'Recharge & bill payments', 'Recharge & bill payments', 'Peer-to-peer payments', 'Peer-to-peer payments', 'Peer-to-peer payments', 'Peer-to-peer payments', 'Peer-to-peer payments', 'Peer-to-peer payments', 'Peer-to-peer payments', 'Recharge & bill payments', 'Peer-to-peer payments', 'Peer-to-peer payments', 'Peer-to-peer payments', 'Peer-to-peer payments', 'Merchant payments', 'Merchant payments', 'Merchant payments', 'Merchant payments', 'Merchant payments', 'Merchant payments', 'Recharge & bill payments', 'Recharge & bill payments', 'Recharge & bill payments', 'Recharge & bill payments', 'Peer-to-peer payments', 'Peer-to-peer payments', 'Peer-to-peer payments', 'Peer-to-peer payments', 'Peer-to-peer payments', 'Recharge & bill payments', 'Peer-to-peer payments', 'Peer-to-peer payments', 'Peer-to-peer payments', 'Peer-to-peer payments', 'Peer-to-peer payments', 'Peer-to-peer payments', 'Peer-to-peer payments', 'Peer-to-peer payments', 'Peer-to-peer payments', 'Peer-to-peer payments', 'Peer-to-peer payments', 'Peer-to-peer payments', 'Peer-to-peer payments', 'Recharge & bill payments', 'Peer-to-peer payments', 'Recharge & bill payments', 'Recharge & bill payments', 'Recharge & bill payments', 'Recharge & bill payments', 'Recharge & bill payments', 'Recharge & bill payments', 'Recharge & bill payments', 'Peer-to-peer payments', 'Recharge & bill payments', 'Peer-to-peer payments', 'Peer-to-peer payments', 'Peer-to-peer payments', 'Peer-to-peer payments', 'Peer-to-peer payments', 'Peer-to-peer payments', 'Recharge & bill payments', 'Recharge & bill payments', 'Peer-to-peer payments', 'Peer-to-peer payments', 'Peer-to-peer payments', 'Peer-to-peer payments', 'Peer-to-peer payments', 'Peer-to-peer payments', 'Peer-to-peer payments', 'Peer-to-peer payments', 'Peer-to-peer payments', 'Peer-to-peer payments', 'Merchant payments', 'Peer-to-peer payments', 'Merchant payments', 'Merchant payments', 'Merchant payments', 'Merchant payments', 'Merchant payments', 'Merchant payments', 'Recharge & bill payments', 'Recharge & bill payments', 'Recharge & bill payments', 'Peer-to-peer payments', 'Peer-to-peer payments', 'Peer-to-peer payments', 'Peer-to-peer payments', 'Merchant payments', 'Merchant payments', 'Peer-to-peer payments', 'Peer-to-peer payments', 'Merchant payments', 'Merchant payments', 'Merchant payments', 'Merchant payments', 'Merchant payments', 'Merchant payments', 'Merchant payments', 'Merchant payments', 'Merchant payments', 'Recharge & bill payments', 'Recharge & bill payments', 'Peer-to-peer payments', 'Recharge & bill payments', 'Peer-to-peer payments', 'Peer-to-peer payments', 'Recharge & bill payments', 'Recharge & bill payments', 'Peer-to-peer payments', 'Peer-to-peer payments', 'Peer-to-peer payments', 'Peer-to-peer payments', 'Peer-to-peer payments', 'Peer-to-peer payments', 'Peer-to-peer payments', 'Peer-to-peer payments', 'Peer-to-peer payments', 'Peer-to-peer payments', 'Peer-to-peer payments', 'Peer-to-peer payments', 'Recharge & bill payments', 'Recharge & bill payments', 'Recharge & bill payments', 'Recharge & bill payments', 'Recharge & bill payments', 'Recharge & bill payments', 'Recharge & bill payments', 'Recharge & bill payments', 'Recharge & bill payments', 'Recharge & bill payments', 'Recharge & bill payments', 'Recharge & bill payments', 'Peer-to-peer payments', 'Recharge & bill payments', 'Peer-to-peer payments', 'Peer-to-peer payments', 'Peer-to-peer payments', 'Peer-to-peer payments', 'Peer-to-peer payments', 'Peer-to-peer payments', 'Recharge & bill payments', 'Recharge & bill payments', 'Peer-to-peer payments', 'Peer-to-peer payments', 'Peer-to-peer payments', 'Peer-to-peer payments', 'Recharge & bill payments', 'Recharge & bill payments', 'Recharge & bill payments', 'Recharge & bill payments', 'Recharge & bill payments', 'Peer-to-peer payments', 'Peer-to-peer payments', 'Peer-to-peer payments', 'Peer-to-peer payments', 'Peer-to-peer payments', 'Peer-to-peer payments', 'Peer-to-peer payments', 'Peer-to-peer payments', 'Peer-to-peer payments', 'Recharge & bill payments', 'Recharge & bill payments', 'Recharge & bill payments', 'Recharge & bill payments', 'Recharge & bill payments', 'Recharge & bill payments', 'Recharge & bill payments', 'Recharge & bill payments', 'Recharge & bill payments', 'Recharge & bill payments', 'Recharge & bill payments', 'Peer-to-peer payments', 'Peer-to-peer payments', 'Peer-to-peer payments', 'Peer-to-peer payments', 'Peer-to-peer payments', 'Peer-to-peer payments', 'Peer-to-peer payments', 'Peer-to-peer payments', 'Peer-to-peer payments', 'Recharge & bill payments', 'Peer-to-peer payments', 'Peer-to-peer payments', 'Peer-to-peer payments', 'Peer-to-peer payments', 'Peer-to-peer payments', 'Peer-to-peer payments', 'Peer-to-peer payments', 'Peer-to-peer payments', 'Peer-to-peer payments', 'Peer-to-peer payments', 'Peer-to-peer payments', 'Peer-to-peer payments', 'Peer-to-peer payments', 'Peer-to-peer payments', 'Peer-to-peer payments', 'Peer-to-peer payments', 'Merchant payments', 'Merchant payments', 'Merchant payments', 'Recharge & bill payments', 'Recharge & bill payments', 'Peer-to-peer payments', 'Peer-to-peer payments', 'Peer-to-peer payments', 'Peer-to-peer payments', 'Peer-to-peer payments', 'Peer-to-peer payments', 'Peer-to-peer payments', 'Peer-to-peer payments', 'Peer-to-peer payments', 'Peer-to-peer payments', 'Peer-to-peer payments', 'Peer-to-peer payments', 'Merchant payments', 'Merchant payments', 'Merchant payments', 'Merchant payments', 'Merchant payments', 'Merchant payments', 'Recharge & bill payments', 'Recharge & bill payments', 'Peer-to-peer payments', 'Peer-to-peer payments', 'Peer-to-peer payments', 'Peer-to-peer payments', 'Peer-to-peer payments', 'Peer-to-peer payments', 'Peer-to-peer payments', 'Recharge & bill payments', 'Peer-to-peer payments', 'Peer-to-peer payments', 'Peer-to-peer payments', 'Peer-to-peer payments', 'Peer-to-peer payments', 'Merchant payments', 'Merchant payments', 'Merchant payments', 'Merchant payments', 'Merchant payments', 'Recharge & bill payments', 'Recharge & bill payments', 'Peer-to-peer payments', 'Peer-to-peer payments', 'Peer-to-peer payments', 'Peer-to-peer payments', 'Peer-to-peer payments', 'Peer-to-peer payments', 'Peer-to-peer payments', 'Peer-to-peer payments', 'Peer-to-peer payments', 'Peer-to-peer payments', 'Peer-to-peer payments', 'Peer-to-peer payments', 'Peer-to-peer payments', 'Merchant payments', 'Merchant payments', 'Merchant payments', 'Merchant payments', 'Merchant payments', 'Recharge & bill payments', 'Recharge & bill payments', 'Recharge & bill payments', 'Recharge & bill payments', 'Peer-to-peer payments', 'Peer-to-peer payments', 'Peer-to-peer payments', 'Peer-to-peer payments', 'Peer-to-peer payments', 'Recharge & bill payments', 'Recharge & bill payments', 'Peer-to-peer payments', 'Peer-to-peer payments', 'Peer-to-peer payments', 'Peer-to-peer payments', 'Peer-to-peer payments', 'Peer-to-peer payments', 'Peer-to-peer payments', 'Peer-to-peer payments', 'Peer-to-peer payments', 'Recharge & bill payments', 'Recharge & bill payments', 'Peer-to-peer payments', 'Peer-to-peer payments', 'Peer-to-peer payments', 'Peer-to-peer payments', 'Peer-to-peer payments', 'Peer-to-peer payments', 'Peer-to-peer payments', 'Peer-to-peer payments', 'Peer-to-peer payments', 'Peer-to-peer payments', 'Peer-to-peer payments', 'Peer-to-peer payments', 'Merchant payments', 'Merchant payments', 'Merchant payments', 'Merchant payments', 'Merchant payments', 'Merchant payments', 'Recharge & bill payments', 'Peer-to-peer payments', 'Peer-to-peer payments', 'Peer-to-peer payments', 'Peer-to-peer payments', 'Peer-to-peer payments', 'Peer-to-peer payments', 'Peer-to-peer payments', 'Peer-to-peer payments', 'Peer-to-peer payments', 'Peer-to-peer payments', 'Peer-to-peer payments', 'Merchant payments', 'Peer-to-peer payments', 'Merchant payments', 'Merchant payments', 'Merchant payments', 'Merchant payments', 'Merchant payments', 'Merchant payments', 'Recharge & bill payments', 'Recharge & bill payments', 'Peer-to-peer payments', 'Recharge & bill payments', 'Peer-to-peer payments', 'Peer-to-peer payments', 'Recharge & bill payments', 'Recharge & bill payments', 'Recharge & bill payments', 'Recharge & bill payments', 'Recharge & bill payments', 'Peer-to-peer payments', 'Peer-to-peer payments', 'Peer-to-peer payments', 'Peer-to-peer payments', 'Peer-to-peer payments', 'Peer-to-peer payments', 'Peer-to-peer payments', 'Peer-to-peer payments', 'Peer-to-peer payments', 'Recharge & bill payments', 'Recharge & bill payments', 'Peer-to-peer payments', 'Peer-to-peer payments', 'Peer-to-peer payments', 'Peer-to-peer payments', 'Peer-to-peer payments', 'Peer-to-peer payments', 'Peer-to-peer payments', 'Recharge & bill payments', 'Peer-to-peer payments', 'Peer-to-peer payments', 'Peer-to-peer payments', 'Peer-to-peer payments', 'Peer-to-peer payments', 'Merchant payments', 'Merchant payments', 'Merchant payments', 'Merchant payments', 'Merchant payments', 'Recharge & bill payments', 'Recharge & bill payments', 'Peer-to-peer payments', 'Peer-to-peer payments', 'Peer-to-peer payments', 'Peer-to-peer payments', 'Peer-to-peer payments', 'Peer-to-peer payments', 'Peer-to-peer payments', 'Recharge & bill payments', 'Peer-to-peer payments', 'Peer-to-peer payments', 'Merchant payments', 'Peer-to-peer payments', 'Merchant payments', 'Merchant payments', 'Merchant payments', 'Merchant payments', 'Merchant payments', 'Merchant payments', 'Recharge & bill payments', 'Peer-to-peer payments', 'Peer-to-peer payments', 'Peer-to-peer payments', 'Peer-to-peer payments', 'Peer-to-peer payments', 'Merchant payments', 'Peer-to-peer payments', 'Peer-to-peer payments', 'Peer-to-peer payments', 'Peer-to-peer payments', 'Peer-to-peer payments', 'Peer-to-peer payments', 'Peer-to-peer payments', 'Peer-to-peer payments', 'Peer-to-peer payments', 'Peer-to-peer payments', 'Peer-to-peer payments', 'Peer-to-peer payments', 'Peer-to-peer payments']\n",
      "[4200, 6735, 8636, 11517, 15263, 14676, 16219, 18128, 18324, 38125, 59310, 81439, 105458, 132772, 192321, 285778, 342649, 449540, 716105, 956536, 5027448, 6456387, 16129591, 17580086, 37420988, 32494402, 39023491, 57181511, 65452143, 73609921, 106791894, 152003791, 149313738, 189614879, 221280317, 262006450, 288488560, 321362337, 298804000, 321632104, 28729, 50700, 74122, 97751, 121303, 131988, 216228, 259183, 329834, 522495, 514907, 522019, 566209, 762946, 986088, 1227616, 1403584, 1751568, 1967086, 2251135, 632092, 984160, 1275136, 1703488, 1993220, 2512932, 2713539, 3222143, 4058740, 6045321, 5637893, 7538478, 9449096, 11668399, 15617592, 21393962, 27156085, 33879530, 37000266, 44828832, 3159922, 4346849, 8893764, 8094296, 16807040, 15837449, 15446119, 26337842, 23163922, 26572651, 37294332, 49432098, 58566582, 78694099, 92785704, 117340712, 138085265, 164119431, 198273336, 243777692, 201262, 224548, 295358, 431461, 689400, 604849, 722233, 927850, 1087401, 766698, 981986, 1322026, 1799072, 1926913, 3179506, 4056249, 4511757, 6136803, 7665907, 10170372, 1177618, 1643461, 1911374, 2438959, 4068056, 4350167, 5021844, 7241974, 8109789, 8366200, 9734445, 14257312, 15621154, 18387345, 27552743, 40526025, 48236094, 61093916, 84355775, 97405954, 95544, 122834, 157113, 194214, 408465, 244134, 319142, 351819, 407577, 525974, 455603, 666995, 768921, 843550, 1312241, 2013673, 2507246, 3346697, 3777156, 4415771, 3947297, 4511737, 8557153, 9973249, 20216287, 20891431, 29453368, 33040093, 33951545, 27155938, 41498638, 54581166, 72615587, 75620295, 115250887, 149204611, 174454937, 233412802, 276635347, 305621913, 85991, 120943, 158797, 246426, 378848, 373759, 475178, 698728, 817198, 758617, 759351, 1550251, 2235456, 1869384, 2865625, 5474662, 6364271, 7812998, 7595135, 10319138, 3691952, 4643367, 5287200, 6488202, 13465044, 12547493, 14529353, 19107911, 19068093, 19971660, 23130724, 29967258, 36427493, 42593432, 62934471, 84846502, 101648378, 131610193, 161264265, 186533503, 2368002, 3054284, 3753981, 5905032, 12622225, 10387562, 11775288, 15729819, 17728235, 17334369, 24123449, 34063692, 39363588, 45335533, 66885213, 84993587, 98346418, 130033573, 151278013, 169685872, 284371, 385642, 457449, 598325, 1178280, 1141873, 1212659, 1579582, 1815157, 2558935, 2416395, 2638030, 2845733, 3340531, 4455153, 6062931, 7030946, 10591420, 12686960, 15297492, 457813, 794502, 1260453, 1265457, 1913720, 1180781, 618694, 310620, 435154, 1238380, 1787154, 2378539, 2800201, 3955437, 5621108, 6852001, 6263588, 9917899, 9594459, 13060020, 1095857, 1398777, 6003688, 3325473, 5952105, 5155937, 5708187, 10301226, 8196850, 8724053, 11984094, 17120664, 19151083, 24184568, 30113326, 45007900, 53218047, 67435024, 74816586, 91863987, 5785292, 7391926, 12863507, 20471744, 44049036, 50033334, 76924325, 114044901, 132970737, 87251639, 137206600, 215711211, 279599017, 244460862, 391381353, 503210623, 588543313, 735295388, 704609552, 830157371, 988774, 1230869, 1425259, 2073960, 3601116, 3519528, 4181954, 5859068, 6634439, 7709714, 8590587, 12941135, 16209203, 17026648, 25402350, 38574904, 47778743, 55730158, 64984061, 74647115, 3550, 8075, 13136, 16650, 22076, 34202, 43198, 42095, 51560, 70601, 108345, 151582, 141894, 209818, 330919, 337120, 343041, 608870, 659896, 559259, 423, 1315, 841, 792, 1183, 1448, 1528, 1801, 2684, 4497, 4696, 5187, 3942, 5499, 5687, 7154, 7913, 8491, 7533, 8686, 4404190, 5324535, 9988509, 11456555, 23708825, 20868744, 22631038, 32083162, 34540722, 34860958, 50871564, 67972167, 84812245, 99367521, 138433772, 197193842, 237691924, 287616385, 391105651, 492999084, 9670237, 12384216, 14371791, 20824667, 37360716, 42546317, 57991699, 80127804, 100337738, 74295930, 108436214, 189845640, 253043309, 247194293, 390051884, 540351277, 646277671, 810961772, 876618082, 1025666187, 50212, 77991, 95204, 113507, 127067, 120153, 180057, 212136, 451733, 533206, 774786, 892853, 1117829, 1372821, 1819423, 2199970, 2517626, 2843426, 3127266, 3259645, 31857, 42625, 60625, 82962, 98817, 108812, 155949, 175084, 226214, 382662, 342484, 350006, 326993, 389959, 473274, 669693, 801009, 977816, 2050942, 1901671, 10155, 13550, 18564, 26212, 35126, 37364, 49073, 60511, 85067, 127592, 132664, 141038, 156386, 173064, 224873, 272209, 302740, 332102, 349715, 378295, 28198, 41959, 54885, 72881, 87596, 92492, 145812, 172761, 221741, 328269, 347494, 417393, 477346, 526966, 667633, 819452, 963378, 1032542, 990896, 1314122, 2874109, 3989202, 24472139, 12285028, 24117274, 16455353, 18490877, 43284477, 27110930, 24520938, 34182172, 47588728, 54417515, 66929109, 85728576, 107560893, 118999900, 148544714, 188143417, 222167575, 53125, 59867, 101817, 173170, 313822, 331248, 394866, 559670, 600290, 468789, 855511, 1211359, 1406958, 1581221, 2273996, 3052713, 3723135, 4613049, 3992974, 4464977, 946338, 1262450, 1684209, 2269375, 4026294, 4140474, 4726946, 6386367, 6339183, 6064807, 7354451, 9609405, 10951083, 13180933, 17024782, 22669743, 25979197, 35941880, 43089589, 48358802, 4305940, 5288093, 7120792, 10752729, 27621606, 25257679, 29885618, 43354317, 48269912, 49160792, 73247856, 88730951, 116733195, 139277445, 181742972, 221774624, 267467038, 336900860, 398104319, 457778005, 26965, 45435, 58421, 79232, 121984, 172125, 203052, 508471, 230413, 297620, 298885, 334069, 403703, 473141, 595826, 831597, 916940, 1198014, 1222037, 1548662, 3308548, 4464677, 8810836, 11538547, 18645926, 16952961, 21277636, 28814008, 30880360, 21700844, 31754077, 47800741, 57446279, 60812902, 85074941, 117578360, 139788772, 179245529, 202149276, 229308285, 4209319, 4784079, 11560952, 15571288, 40488967, 46741594, 59981113, 82587060, 95668911, 76683293, 116668399, 160607487, 185230619, 230861833, 286735350, 376584215, 449186799, 565370506, 880414292, 1002521735, 86819, 118171, 186065, 204720, 296993, 240776, 339539, 373779, 449584, 600206, 627363, 650386, 643366, 703728, 864329, 1060915, 1221863, 1443647, 1836678, 2252390, 7003704, 9232131, 13828768, 15804910, 32062452, 27105049, 26990786, 40540310, 39581157, 42229417, 54449911, 75433782, 85539321, 102927942, 127945827, 183966052, 221556930, 298721048, 361972506, 439247166, 730428, 946332, 1049725, 1556731, 3499130, 2383662, 2313544, 3210116, 3792776, 3755695, 4836512, 6748183, 8393767, 9374939, 13673085, 19850878, 22595602, 32087670, 35069444, 43185705, 5773831, 8284944, 41882429, 17154995, 27374206, 20285958, 30804036, 67037576, 28457404, 24855687, 37556349, 46437233, 53869075, 64661051, 84353949, 105728377, 124787028, 145395450, 163523844, 184380244]\n",
      "[1845307.4673655091, 2320944.731074479, 4343504.868377829, 5450549.512294375, 6611459.8729725825, 7242448.256212333, 8171737.705916681, 121493224.30754511, 142332401.79234773, 17659622.73418829, 24756220.875469353, 533316526.1814983, 665391395.715478, 748382044.7707307, 1077787837.1562996, 1544932663.2744582, 1682328505.7254477, 510838980.9061847, 693438186.296541, 906365300.6585041, 892293975.6698562, 1598591488.4880352, 32738630444.668724, 47011639726.13608, 77524329742.2595, 103924649232.47021, 124338645329.51532, 178893550050.68753, 223088554055.04755, 262731724130.7907, 406461788252.32056, 566639138543.7708, 580542193013.0018, 737004484057.439, 837841124664.307, 971269765249.1282, 1089629182596.4781, 1231408926513.7114, 1140164525892.7397, 211898851397.09848, 5184132.514934338, 10468878.537107183, 15997565.906016497, 20662691.882313278, 26796894.998233315, 30420803.41271234, 50946104.94289842, 63516906.09060433, 86011654.77474582, 145198528.22961134, 153463816.21184397, 3254744938.4105625, 3460488558.9436507, 4000960152.0755496, 5033603845.032885, 6022733378.120082, 6670641250.45945, 7627061474.687715, 7365427284.274204, 7768088687.67791, 93491181.14056379, 174427478.21340805, 254569069.32411742, 317661277.3470997, 400281677.94382846, 539315772.8606573, 11835800855.176552, 14083346879.361855, 18977446151.768826, 1612522828.7163475, 26646565777.43919, 36013292450.814384, 45476079487.10464, 51521387890.61253, 64131823895.235466, 86801625126.53499, 108855352347.44865, 123829913105.31845, 127264703851.96637, 150693397669.18314, 375559206.7727593, 700649777.0602969, 18695889187.89432, 26224303882.80399, 38824078062.32093, 58381285240.80835, 61831776093.09613, 86340631422.24606, 99873688132.9031, 116244368941.33606, 153664683751.53278, 208484557891.42865, 242013312361.31104, 319758683264.15344, 331514102784.2631, 423665098014.2792, 500024806542.69324, 610448610667.7207, 137873615624.72937, 172924170171.63205, 47479581.16264416, 76722906.67871952, 1217617705.9681761, 1793871702.3196409, 2123866601.6513758, 2339922407.523348, 2815184152.8041325, 3586763928.6423693, 4421372542.468033, 3293060119.5471582, 4178346395.412492, 939307675.8510206, 1210594490.0981498, 1390989390.7789688, 2245390329.2047896, 3041038519.8233976, 3264574793.4564357, 3919372475.5605655, 4713972532.82215, 6570336079.954211, 206518662.81014803, 351709628.0901169, 443460556.77590346, 554514488.4121984, 11417366152.388483, 15410038389.818308, 17584630267.779922, 24112075521.017845, 28723854868.846924, 2504355746.828547, 34661165923.13037, 50812302052.952705, 55638916992.13896, 62134058797.4359, 19905616746.805294, 29283695601.229546, 33822547183.04485, 41536371583.74904, 50874051122.3736, 60247141797.94961, 17526369.5804541, 30595592.007682398, 39790820.29359456, 582082154.4115133, 757657638.3173952, 734034142.8087387, 104597035.07984878, 125809568.35055912, 153340696.30393675, 178877986.7248658, 201223380.1868608, 2153786522.547576, 2379220756.2230163, 2512913026.4279447, 706774071.9381688, 1058989463.1650428, 1227972829.6970267, 1536859131.3374817, 1705567002.0586467, 1889046056.1988354, 1320559612.770412, 2078183615.8006349, 22670122888.868217, 32389252494.75772, 48250023720.99173, 6816878922.844399, 9857221391.940361, 105858524152.38443, 14470782771.054684, 86227124454.10175, 140074023548.15637, 31106554562.7951, 39861532639.012344, 42933366743.23575, 64006915630.53262, 88990516304.07437, 98212381475.57239, 121657706565.01256, 134292748569.06271, 153114813286.24423, 18273814.162708722, 30994284.17044104, 40314972.94208837, 1021902315.4426756, 1310759847.8146646, 1391933790.7547765, 1704668027.0159788, 2484453030.31845, 2851686768.653684, 241196540.9379891, 2723430713.3444066, 5407626413.043346, 7553384653.1682, 1411529033.6650195, 2143135314.897931, 4384250602.937038, 4682000388.389215, 5736211013.6866455, 5112175255.359402, 6739205748.43176, 878929080.9916563, 1571880396.377953, 15272745137.759302, 21207285184.780193, 31231285551.308655, 41853661230.46585, 49206585462.018684, 64477452638.7778, 72393727235.07784, 8322688556.990006, 89142122337.25531, 116743230330.36209, 144818968373.02933, 33542305033.829506, 48197579736.51646, 68717933161.8696, 79563412221.78397, 95585623258.23604, 109018764232.99393, 125585214989.03009, 535578755.07945114, 984897276.651981, 14429454356.345787, 22416919746.93868, 30283578836.61907, 37056084813.57578, 43738290119.9285, 58242027266.14443, 68367245528.07149, 66645492690.67839, 88796356487.11024, 21382305452.06797, 23389100227.155342, 29119078263.957985, 40190922826.60629, 56325102920.50671, 62565728158.2885, 76926347115.76375, 87063736519.87311, 102918159834.12416, 49871175.82607427, 83714322.414042, 108456077.51862916, 143031082.4432017, 3066233587.9236507, 4428007670.958708, 327570066.9967147, 6533855301.069828, 542356756.9678606, 802231470.1628922, 834567922.2742614, 936305777.7250878, 11358078843.572702, 13035543546.66397, 16560383923.204865, 5228613146.743451, 5558905677.966259, 7697399368.089639, 8511266152.669347, 10280295883.656351, 78812610.35129012, 166762242.91718757, 3616022745.5645847, 5151829745.262983, 5414709531.836735, 5666318253.462076, 3499425217.9582095, 1799955855.9714913, 2654638582.0865793, 7426818530.258213, 10837119046.792652, 13736841259.979288, 14801220301.14875, 19502438177.8094, 26562997915.198593, 31444247707.630074, 25881919928.642838, 8541811640.294408, 8056512904.560925, 9463119176.828749, 132181815.28422523, 208894647.78855115, 8142915751.203348, 9414019816.80093, 12664709652.347084, 17044444613.808352, 19050145624.077984, 25360155657.218044, 29875044416.372463, 32662370316.521744, 43128110246.27049, 60733288288.10599, 69198235576.72797, 86037113965.37598, 97742557031.75543, 30397134744.16734, 35404682302.81973, 44149892984.34711, 45850919744.1592, 57173653531.6919, 1496816541.9710202, 2435924808.0540595, 42819128165.14718, 63575342228.05887, 104118436760.31566, 142910706254.40515, 20375791901.51608, 31602890835.851074, 40374401933.52864, 38463881234.4382, 60769881812.00958, 97147239182.96416, 117959690729.6494, 124624417935.05894, 190563423840.34485, 243754536471.1106, 278109650949.8691, 358016289601.7625, 333606445776.6083, 380643835280.23364, 157311821.37585658, 248080143.25702396, 4823239268.279744, 6959805154.570259, 9314451112.085835, 11630623424.131498, 14433990011.32079, 18537483865.44591, 22862907701.60516, 2452435028.9249372, 33346812213.798676, 45686395927.74489, 55336812492.74641, 58152644526.04467, 17877677018.10737, 24589454633.018272, 28685388646.415367, 34395023155.77253, 37852759989.759125, 40607857085.646095, 927250.7143707818, 2417434.2729015187, 4676712.344045115, 5701932.895454288, 139715922.1887053, 240305709.92824298, 303596367.67958534, 298044908.5075786, 339551900.3873952, 32087339.266190995, 751333715.2896031, 985814864.3429123, 869999786.1513934, 1259044412.4358737, 1917311078.1287262, 1804428550.1884875, 1685241980.664183, 2941624382.277109, 2955729492.4985514, 2350047971.603546, 1860278.2784597143, 5757123.079919379, 3926048.74488305, 351201.0879000404, 8221402.368536929, 436735.1684614296, 503049.2411913635, 618155.9004644766, 789255.2646123999, 1061694.138574572, 1186947.553816269, 1499298.1127799235, 24823715.017422147, 1745295.828077295, 34142107.520169854, 44696668.86120765, 48590864.56835763, 48451728.04746901, 40029003.82575238, 47450386.0033243, 667057311.4560372, 1132090445.8903365, 22057686208.544342, 30897348664.90544, 44114206183.09186, 61758841793.87666, 67648107703.0357, 92064471161.9892, 110325991607.38477, 128184693854.7977, 174978985034.2865, 235584201864.22342, 50098244499.50662, 348935762191.10486, 85885669792.43228, 126461098235.02324, 143310226696.7226, 174183397721.35938, 212445928287.3991, 272801597092.4764, 2283567431.223535, 3725800358.6814823, 4547486090.186737, 68974011019.10294, 97373087988.08871, 130558153687.9542, 165731686168.5575, 27209874138.487556, 35200130304.82776, 239933338682.6934, 351555554813.2122, 103804638603.74611, 129493046208.15726, 150864465217.02304, 216701984638.98932, 305512280091.4157, 340240479374.36835, 428469294407.1603, 432250721734.13074, 502660888415.46185, 6463184.554711691, 11541247.784420915, 357768750.1845896, 18898063.282383174, 619919870.7455351, 679785849.1398683, 36634657.049143404, 44202546.57396081, 2458093401.740467, 2980242535.075443, 4301284799.331292, 5172499337.530437, 6402367883.667423, 7041837917.785187, 9134806594.52819, 10998828287.529043, 12169368063.4095, 12704512238.809605, 12927705072.13747, 13133729481.472115, 6028476.149090356, 9657896.164724296, 14231601.453371253, 18100891.637344178, 23006751.795504905, 27248605.429233357, 38916251.42165714, 43611775.02621875, 59666071.21530793, 100570200.25271696, 97662913.13408674, 102794647.7641504, 1794745857.3188953, 129031455.7077258, 2348008593.21644, 3233210261.728197, 3899172008.7001157, 4359000096.157877, 7796315453.507147, 7328913724.3339405, 2199565.258913744, 3107406.501616686, 108783543.9098094, 177049162.13058332, 204183867.4116538, 233471780.00357005, 12966806.696277115, 16857122.3073061, 24356294.58523286, 37504550.77732091, 40941077.032856956, 887252744.067668, 982955112.1892779, 995581952.903405, 1290523196.259221, 1545255603.4119103, 1691281089.989316, 1739114390.3016624, 1665955694.9848173, 1750113148.3068104, 5361675.549623315, 9139467.703980098, 12664922.724117381, 16615511.42043031, 20020458.076388802, 21350211.07781426, 33293527.93210053, 39720745.597670965, 53662023.32016543, 85264116.11779374, 91214897.18744522, 2563827858.0487146, 2841021698.4844904, 2847731457.571479, 3536780176.7792263, 4335295237.9809065, 4798355631.574022, 4933041257.229492, 4568905305.863961, 5888068476.789, 331254466.1508661, 7621288195.565702, 22029087498.562176, 21804268077.596016, 33342321630.613514, 41423292021.956635, 51447586885.48035, 72966050937.29504, 82863844732.4941, 80990080777.89252, 107064668710.39911, 153208735347.1269, 181450436291.91052, 208405882369.0544, 251150860524.22568, 310704112799.8908, 364447461107.48627, 90369380298.62819, 102889591517.77438, 121470843740.33278, 9704752.648983236, 14607336.895731753, 378368361.36171496, 569825171.3369759, 835983054.254643, 1109343371.746654, 1316118199.672093, 1725523873.442102, 1919499665.8834748, 1680190117.5830743, 3116583524.6597652, 4090057482.9812045, 4798646712.501943, 5266478797.142263, 1443176801.0606492, 1864951565.928207, 2199614586.4039083, 2693234774.5574756, 2322908508.7835197, 2534351530.8368397, 196018621.35851485, 395417027.849745, 6173898400.559117, 9404088424.489891, 12027441595.712797, 16258891447.321405, 19146726286.636036, 25564144629.75061, 26350005915.230072, 3089758241.1281967, 32477438924.476498, 43286909256.83391, 46908632143.31532, 55282486111.30394, 66149902036.358826, 20753662875.546524, 23217511696.823074, 28585688543.687046, 32370885165.312702, 38162493193.40967, 868358581.1737025, 1511007056.105427, 21010614922.14291, 33578327037.682457, 55246071722.22856, 79466464089.34059, 97443950786.5758, 140449134717.291, 165468574323.88968, 166176386876.30048, 249006720239.33432, 321280847680.95026, 408190388154.2274, 467784146764.7472, 575912799217.8965, 151967969235.0213, 171182113048.26318, 208238945148.44, 230609701751.02283, 275194969877.524, 4823943.542263939, 9465769.856051585, 12221506.18938216, 16713780.628117373, 422987999.89472675, 674044301.8399961, 794235862.6317357, 1086457147.940953, 954765350.1856782, 78397187.10935993, 83894642.6709112, 1711730126.584541, 1965492629.578867, 2125758496.616091, 2582075089.383399, 3548508409.656125, 3650961081.00263, 4596501308.195931, 4173703593.656705, 5175155338.821596, 646028338.3951533, 1189892955.8051775, 26792462660.044968, 39180083690.57276, 51296299081.44436, 57924128549.06981, 70615331408.53966, 91858026341.27563, 101907683045.28436, 82347647064.12332, 123561080533.04672, 172196381789.491, 206405230307.9611, 216379027686.30246, 52932187058.575195, 70539086832.13815, 81798208975.87326, 100813133534.0309, 109801011246.16069, 118847998736.56468, 831912767.5937189, 20748520742.57553, 29253505738.828743, 44541667501.74112, 87361237975.49301, 141095702899.16147, 180342868388.36203, 249346680995.99316, 327641798044.80554, 279478553909.7438, 437459188905.0534, 591976601278.5154, 95927278280.53006, 872151973637.885, 159227310549.39368, 212974766412.01556, 243841863780.6793, 307468406704.909, 447150646953.73706, 491556008133.53546, 14079439.569905948, 22554398.15273035, 398867427.32463384, 38334816.66379926, 679165332.8123899, 751113516.2256755, 81845425.35425141, 88001651.28693296, 114355218.03514045, 163220166.76643574, 185201997.2796099, 2683789889.83192, 2821226150.5919185, 2865655130.4313264, 3491901741.1594186, 4368786747.103016, 4934712034.365204, 5354182193.788111, 6718925839.047781, 8142233538.414012, 1201827543.8816488, 2044535461.482608, 32944051606.98276, 48836291123.914734, 68506766330.45149, 87581482658.94861, 95134023863.97964, 126564888408.1326, 147734706846.56177, 14668026056.368128, 207530912756.73047, 294401153346.76337, 321609613378.6789, 388761820128.4563, 440726915882.17084, 142889329646.05463, 165543931419.27045, 216176289528.43256, 232005905549.1372, 296781967366.6535, 124377517.3349145, 193802092.8234874, 3356030294.930648, 5072621132.343549, 6512361464.496071, 7752954670.580209, 8512622076.436331, 11020339546.604958, 13999676596.865887, 1303523584.942265, 18377468807.44993, 25748737002.1362, 5283142247.065777, 32674145244.390625, 9001414756.070686, 13515464697.761791, 14585438346.473846, 19479185362.296963, 20528059274.248493, 26026949674.245083, 964309485.9592385, 15889890046.862814, 38439798815.23789, 35303180047.06148, 44170923881.744286, 48394974398.37831, 8273187167.0788555, 76593333397.8665, 82770282623.80914, 84984004330.7718, 133120676151.84232, 166391874596.30487, 202240249482.85385, 230812278789.29965, 294799731350.5536, 372240891205.5542, 446343740437.97784, 520190680811.79974, 556258142870.3699, 620222191587.5906]\n"
     ]
    }
   ],
   "source": [
    "for i in Agg_Trans:\n",
    "    print(i)"
   ]
  },
  {
   "cell_type": "code",
   "execution_count": 20,
   "id": "c626cdf5",
   "metadata": {},
   "outputs": [
    {
     "name": "stdout",
     "output_type": "stream",
     "text": [
      "<mysql.connector.connection_cext.CMySQLConnection object at 0x00000217B3034EE0>\n"
     ]
    }
   ],
   "source": [
    "import mysql.connector as sql\n",
    "mydb= sql.connect(\n",
    " host='localhost',\n",
    " user='root',\n",
    " password='9829639317',\n",
    " autocommit=True\n",
    ")\n",
    "print(mydb)\n",
    "mycursor = mydb.cursor(buffered=True)"
   ]
  },
  {
   "cell_type": "code",
   "execution_count": 21,
   "id": "a190d07e",
   "metadata": {},
   "outputs": [],
   "source": [
    "mycursor.execute('USE phone_pe')"
   ]
  },
  {
   "cell_type": "code",
   "execution_count": 22,
   "id": "a1a308dd",
   "metadata": {},
   "outputs": [
    {
     "name": "stdout",
     "output_type": "stream",
     "text": [
      "Data loaded successfully\n"
     ]
    }
   ],
   "source": [
    "table_zero = '''CREATE TABLE Agg_Transaction_Table(\n",
    "                  id INT AUTO_INCREMENT PRIMARY KEY,\n",
    "                  State VARCHAR(255) NOT NULL,\n",
    "                  Year VARCHAR(255) NOT NULL,\n",
    "                  Quarter INT NOT NULL,\n",
    "                  Transaction_type VARCHAR(255) NOT NULL,\n",
    "                  Transaction_count INT NOT NULL,\n",
    "                  Transaction_amount FLOAT NOT NULL\n",
    "                  )'''\n",
    "mydb.commit()\n",
    "mycursor.close()\n",
    "mydb.close()\n",
    "print('Data loaded successfully')"
   ]
  }
 ],
 "metadata": {
  "kernelspec": {
   "display_name": "Python 3 (ipykernel)",
   "language": "python",
   "name": "python3"
  },
  "language_info": {
   "codemirror_mode": {
    "name": "ipython",
    "version": 3
   },
   "file_extension": ".py",
   "mimetype": "text/x-python",
   "name": "python",
   "nbconvert_exporter": "python",
   "pygments_lexer": "ipython3",
   "version": "3.9.13"
  }
 },
 "nbformat": 4,
 "nbformat_minor": 5
}
